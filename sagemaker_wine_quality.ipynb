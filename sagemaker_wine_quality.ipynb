{
 "cells": [
  {
   "cell_type": "markdown",
   "metadata": {},
   "source": [
    "# ANA680 - Assignment 5: Wine Quality Prediction\n",
    "## Problem 2: AWS SageMaker Implementation\n",
    "### Part 2a: Without Container Technology\n",
    "### Part 2b: With Container Technology"
   ]
  },
  {
   "cell_type": "markdown", 
   "metadata": {},
   "source": [
    "## Part 2a: Without Container Technology (Built-in Algorithms)"
   ]
  },
  {
   "cell_type": "code",
   "execution_count": null,
   "metadata": {},
   "outputs": [],
   "source": [
    "# Using SageMaker built-in Linear Learner\n",
    "from sagemaker import LinearLearner\n",
    "\n",
    "# Code for built-in algorithm implementation\n",
    "print(\"Problem 2a: SageMaker without containers - USING BUILT-IN ALGORITHMS\")"
   ]
  },
  {
   "cell_type": "markdown",
   "metadata": {}, 
   "source": [
    "## Part 2b: With Container Technology (Custom Containers)"
   ]
  },
  {
   "cell_type": "code",
   "execution_count": null,
   "metadata": {},
   "outputs": [],
   "source": [
    "# Using custom containers with ECR\n",
    "import boto3\n",
    "import sagemaker\n",
    "\n",
    "# Code for custom container implementation\n",
    "print(\"Problem 2b: SageMaker with custom containers - USING ECR\")"
   ]
  }
 ],
 "metadata": {
  "kernelspec": {
   "display_name": "Python 3",
   "language": "python",
   "name": "python3"
  }
 },
 "nbformat": 4,
 "nbformat_minor": 4
}
EOF+
# Create a simple notebook file
cat > sagemaker_wine_quality.ipynb << 'EOF'
{
 "cells": [
  {
   "cell_type": "markdown",
   "metadata": {},
   "source": [
    "# ANA680 - Assignment 5: Wine Quality Prediction\n",
    "## Problem 2: AWS SageMaker Implementation\n",
    "### Part 2a: Without Container Technology\n",
    "### Part 2b: With Container Technology"
   ]
  },
  {
   "cell_type": "markdown", 
   "metadata": {},
   "source": [
    "## Part 2a: Without Container Technology (Built-in Algorithms)"
   ]
  },
  {
   "cell_type": "code",
   "execution_count": null,
   "metadata": {},
   "outputs": [],
   "source": [
    "# Using SageMaker built-in Linear Learner\n",
    "from sagemaker import LinearLearner\n",
    "\n",
    "# Code for built-in algorithm implementation\n",
    "print(\"Problem 2a: SageMaker without containers - USING BUILT-IN ALGORITHMS\")"
   ]
  },
  {
   "cell_type": "markdown",
   "metadata": {}, 
   "source": [
    "## Part 2b: With Container Technology (Custom Containers)"
   ]
# Create a simple notebook file
cat > sagemaker_wine_quality.ipynb << 'EOF'
{
 "cells": [
  {
   "cell_type": "markdown",
   "metadata": {},
   "source": [
    "# ANA680 - Assignment 5: Wine Quality Prediction\n",
    "## Problem 2: AWS SageMaker Implementation\n",
    "### Part 2a: Without Container Technology\n",
    "### Part 2b: With Container Technology"
   ]
  },
  {
   "cell_type": "markdown", 
   "metadata": {},
   "source": [
    "## Part 2a: Without Container Technology (Built-in Algorithms)"
   ]
  },
  {
   "cell_type": "code",
   "execution_count": null,
   "metadata": {},
   "outputs": [],
   "source": [
    "# Using SageMaker built-in Linear Learner\n",
    "from sagemaker import LinearLearner\n",
    "\n",
    "# Code for built-in algorithm implementation\n",
    "print(\"Problem 2a: SageMaker without containers - USING BUILT-IN ALGORITHMS\")"
   ]
  },
  {
   "cell_type": "markdown",
   "metadata": {}, 
   "source": [
    "## Part 2b: With Container Technology (Custom Containers)"
   ]
  },
  {
   "cell_type": "code",
   "execution_count": null,
   "metadata": {},
   "outputs": [],
   "source": [
    "# Using custom containers with ECR\n",
    "import boto3\n",
    "import sagemaker\n",
    "\n",
    "# Code for custom container implementation\n",
    "print(\"Problem 2b: SageMaker with custom containers - USING ECR\")"
   ]
  }
 ],
 "metadata": {
  "kernelspec": {
   "display_name": "Python 3",
   "language": "python",
   "name": "python3"
  }
 },
 "nbformat": 4,
 "nbformat_minor": 4
}
