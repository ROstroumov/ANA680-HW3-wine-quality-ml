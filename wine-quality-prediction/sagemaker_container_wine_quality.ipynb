{
  "cells": [
    {
      "cell_type": "markdown",
      "metadata": {},
      "source": [
        "# ANA680 - Assignment 5: SageMaker with Custom Containers\n",
        "## Wine Quality Prediction using AWS SageMaker with Container Technology\n",
        "### Problem 2b: With Container Technology"
      ]
    }
  ],
  "metadata": {
    "kernelspec": {
      "display_name": "Python 3",
      "language": "python",
      "name": "python3"
    },
    "language_info": {
      "name": "python",
      "version": "3.8.0"
    }
  },
  "nbformat": 4,
  "nbformat_minor": 4
}